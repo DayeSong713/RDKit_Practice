{
 "cells": [
  {
   "cell_type": "code",
   "execution_count": 1,
   "id": "425bdd2f",
   "metadata": {},
   "outputs": [
    {
     "name": "stderr",
     "output_type": "stream",
     "text": [
      "RDKit WARNING: [08:07:41] Enabling RDKit 2019.09.3 jupyter extensions\n"
     ]
    }
   ],
   "source": [
    "from rdkit import Chem"
   ]
  },
  {
   "cell_type": "code",
   "execution_count": 37,
   "id": "79ee3ff6",
   "metadata": {},
   "outputs": [
    {
     "name": "stdout",
     "output_type": "stream",
     "text": [
      "<rdkit.Chem.rdchem.Mol object at 0x7ffa6a7f3640>\n"
     ]
    }
   ],
   "source": [
    "m = Chem.MolFromSmiles('Cc1ccccc1')\n",
    "print(m)"
   ]
  },
  {
   "cell_type": "code",
   "execution_count": 38,
   "id": "3d6b240a",
   "metadata": {},
   "outputs": [
    {
     "data": {
      "image/png": "[encoded data removed]",
      "text/plain": [
       "<rdkit.Chem.rdchem.Mol at 0x7ffa6a7f3640>"
      ]
     },
     "execution_count": 38,
     "metadata": {},
     "output_type": "execute_result"
    }
   ],
   "source": [
    "m"
   ]
  },
  {
   "cell_type": "code",
   "execution_count": 5,
   "id": "f1f3856d",
   "metadata": {},
   "outputs": [],
   "source": [
    "mol_1=Chem.MolFromMol2File('/home/ailon/Desktop/python_practice/rdkit_test/decoy_00.mol2')"
   ]
  },
  {
   "cell_type": "code",
   "execution_count": 34,
   "id": "8ff1cc1a",
   "metadata": {
    "scrolled": false
   },
   "outputs": [
    {
     "name": "stdout",
     "output_type": "stream",
     "text": [
      "<rdkit.Chem.rdchem.Mol object at 0x7ffa6a7f37c0>\n"
     ]
    }
   ],
   "source": [
    "print(mol_1)"
   ]
  },
  {
   "cell_type": "code",
   "execution_count": 35,
   "id": "fc833725",
   "metadata": {},
   "outputs": [
    {
     "data": {
      "image/png": "[encoded data removed]",
      "text/plain": [
       "<rdkit.Chem.rdchem.Mol at 0x7ffa6a7f37c0>"
      ]
     },
     "execution_count": 35,
     "metadata": {},
     "output_type": "execute_result"
    }
   ],
   "source": [
    "mol_1"
   ]
  },
  {
   "cell_type": "code",
   "execution_count": 24,
   "id": "66fbe0d7",
   "metadata": {},
   "outputs": [],
   "source": [
    "import pandas as pd"
   ]
  },
  {
   "cell_type": "code",
   "execution_count": 25,
   "id": "9e21ac19",
   "metadata": {},
   "outputs": [],
   "source": [
    "smiles_1=pd.read_csv('/home/ailon/Desktop/python_practice/RDKit_test.csv')"
   ]
  },
  {
   "cell_type": "code",
   "execution_count": 26,
   "id": "de197fd9",
   "metadata": {},
   "outputs": [
    {
     "data": {
      "text/html": [
       "<div>\n",
       "<style scoped>\n",
       "    .dataframe tbody tr th:only-of-type {\n",
       "        vertical-align: middle;\n",
       "    }\n",
       "\n",
       "    .dataframe tbody tr th {\n",
       "        vertical-align: top;\n",
       "    }\n",
       "\n",
       "    .dataframe thead th {\n",
       "        text-align: right;\n",
       "    }\n",
       "</style>\n",
       "<table border=\"1\" class=\"dataframe\">\n",
       "  <thead>\n",
       "    <tr style=\"text-align: right;\">\n",
       "      <th></th>\n",
       "      <th>CID</th>\n",
       "      <th>canSmiles</th>\n",
       "      <th>isoSmiles</th>\n",
       "      <th>Source</th>\n",
       "    </tr>\n",
       "  </thead>\n",
       "  <tbody>\n",
       "    <tr>\n",
       "      <th>0</th>\n",
       "      <td>0</td>\n",
       "      <td>COC(=O)O</td>\n",
       "      <td>COC(=O)O</td>\n",
       "      <td>PDB</td>\n",
       "    </tr>\n",
       "    <tr>\n",
       "      <th>1</th>\n",
       "      <td>1</td>\n",
       "      <td>COc1cc(C(F)(F)C(=O)N2CCCCC2C(=O)OC(CCCc2ccccc2...</td>\n",
       "      <td>COc1cc(C(F)(F)C(=O)N2CCCC[C@H]2C(=O)O[C@@H](CC...</td>\n",
       "      <td>PDB</td>\n",
       "    </tr>\n",
       "    <tr>\n",
       "      <th>2</th>\n",
       "      <td>2</td>\n",
       "      <td>CCC(C)C(NC(=O)C(CC(=O)NO)Cc1ccccc1)C(=O)NC(CC(...</td>\n",
       "      <td>CC[C@H](C)[C@H](NC(=O)[C@@H](CC(=O)NO)Cc1ccccc...</td>\n",
       "      <td>PDB</td>\n",
       "    </tr>\n",
       "    <tr>\n",
       "      <th>3</th>\n",
       "      <td>3</td>\n",
       "      <td>CC(C)Cn1c(=O)n(C)c(=O)c2c(-c3ccncc3)n(Cc3cccc4...</td>\n",
       "      <td>CC(C)Cn1c(=O)n(C)c(=O)c2c(-c3ccncc3)n(Cc3cccc4...</td>\n",
       "      <td>PDB</td>\n",
       "    </tr>\n",
       "    <tr>\n",
       "      <th>4</th>\n",
       "      <td>4</td>\n",
       "      <td>NC(C(=O)O)c1ccccc1</td>\n",
       "      <td>N[C@H](C(=O)O)c1ccccc1</td>\n",
       "      <td>PDB</td>\n",
       "    </tr>\n",
       "    <tr>\n",
       "      <th>5</th>\n",
       "      <td>5</td>\n",
       "      <td>NC(Cc1ccccc1)C(O)C(=O)O</td>\n",
       "      <td>N[C@@H](Cc1ccccc1)[C@H](O)C(=O)O</td>\n",
       "      <td>PDB</td>\n",
       "    </tr>\n",
       "    <tr>\n",
       "      <th>6</th>\n",
       "      <td>6</td>\n",
       "      <td>Cc1cccc(C)c1OCC(=O)NC(Cc1ccccc1)C(O)C(=O)N1CSC...</td>\n",
       "      <td>Cc1cccc(C)c1OCC(=O)N[C@@H](Cc1ccccc1)[C@H](O)C...</td>\n",
       "      <td>PDB</td>\n",
       "    </tr>\n",
       "    <tr>\n",
       "      <th>7</th>\n",
       "      <td>7</td>\n",
       "      <td>NCC1(c2ccccc2)CCCC1</td>\n",
       "      <td>NCC1(c2ccccc2)CCCC1</td>\n",
       "      <td>PDB</td>\n",
       "    </tr>\n",
       "    <tr>\n",
       "      <th>8</th>\n",
       "      <td>8</td>\n",
       "      <td>NC(=O)C1Cc2ccccc2CN1C(=O)CC(N)Cc1ccccc1F</td>\n",
       "      <td>NC(=O)[C@@H]1Cc2ccccc2CN1C(=O)C[C@H](N)Cc1ccccc1F</td>\n",
       "      <td>PDB</td>\n",
       "    </tr>\n",
       "    <tr>\n",
       "      <th>9</th>\n",
       "      <td>9</td>\n",
       "      <td>CN(C)c1cccc(CNCC(O)C(Cc2ccccc2)NC(=O)C2(Cc3ccc...</td>\n",
       "      <td>CN(C)c1cccc(CNC[C@@H](O)[C@H](Cc2ccccc2)NC(=O)...</td>\n",
       "      <td>PDB</td>\n",
       "    </tr>\n",
       "  </tbody>\n",
       "</table>\n",
       "</div>"
      ],
      "text/plain": [
       "   CID                                          canSmiles  \\\n",
       "0    0                                           COC(=O)O   \n",
       "1    1  COc1cc(C(F)(F)C(=O)N2CCCCC2C(=O)OC(CCCc2ccccc2...   \n",
       "2    2  CCC(C)C(NC(=O)C(CC(=O)NO)Cc1ccccc1)C(=O)NC(CC(...   \n",
       "3    3  CC(C)Cn1c(=O)n(C)c(=O)c2c(-c3ccncc3)n(Cc3cccc4...   \n",
       "4    4                                 NC(C(=O)O)c1ccccc1   \n",
       "5    5                            NC(Cc1ccccc1)C(O)C(=O)O   \n",
       "6    6  Cc1cccc(C)c1OCC(=O)NC(Cc1ccccc1)C(O)C(=O)N1CSC...   \n",
       "7    7                                NCC1(c2ccccc2)CCCC1   \n",
       "8    8           NC(=O)C1Cc2ccccc2CN1C(=O)CC(N)Cc1ccccc1F   \n",
       "9    9  CN(C)c1cccc(CNCC(O)C(Cc2ccccc2)NC(=O)C2(Cc3ccc...   \n",
       "\n",
       "                                           isoSmiles Source  \n",
       "0                                           COC(=O)O    PDB  \n",
       "1  COc1cc(C(F)(F)C(=O)N2CCCC[C@H]2C(=O)O[C@@H](CC...    PDB  \n",
       "2  CC[C@H](C)[C@H](NC(=O)[C@@H](CC(=O)NO)Cc1ccccc...    PDB  \n",
       "3  CC(C)Cn1c(=O)n(C)c(=O)c2c(-c3ccncc3)n(Cc3cccc4...    PDB  \n",
       "4                             N[C@H](C(=O)O)c1ccccc1    PDB  \n",
       "5                   N[C@@H](Cc1ccccc1)[C@H](O)C(=O)O    PDB  \n",
       "6  Cc1cccc(C)c1OCC(=O)N[C@@H](Cc1ccccc1)[C@H](O)C...    PDB  \n",
       "7                                NCC1(c2ccccc2)CCCC1    PDB  \n",
       "8  NC(=O)[C@@H]1Cc2ccccc2CN1C(=O)C[C@H](N)Cc1ccccc1F    PDB  \n",
       "9  CN(C)c1cccc(CNC[C@@H](O)[C@H](Cc2ccccc2)NC(=O)...    PDB  "
      ]
     },
     "execution_count": 26,
     "metadata": {},
     "output_type": "execute_result"
    }
   ],
   "source": [
    "smiles_1"
   ]
  },
  {
   "cell_type": "code",
   "execution_count": 27,
   "id": "f7c6fab9",
   "metadata": {},
   "outputs": [
    {
     "name": "stderr",
     "output_type": "stream",
     "text": [
      "RDKit ERROR: [10:58:11] SMILES Parse Error: syntax error while parsing: smiles_1\n",
      "RDKit ERROR: [10:58:11] SMILES Parse Error: Failed parsing SMILES 'smiles_1' for input: 'smiles_1'\n"
     ]
    }
   ],
   "source": [
    "m = Chem.MolFromSmiles('smiles_1')"
   ]
  },
  {
   "cell_type": "code",
   "execution_count": 39,
   "id": "7bf69883",
   "metadata": {},
   "outputs": [],
   "source": [
    "m2=Chem.MolToSmiles(mol_1)"
   ]
  },
  {
   "cell_type": "code",
   "execution_count": 40,
   "id": "6215b217",
   "metadata": {},
   "outputs": [
    {
     "data": {
      "text/plain": [
       "'C#C[C@@H](O)/C=C/CCCCCCCCCC[C@H](C)CCCC'"
      ]
     },
     "execution_count": 40,
     "metadata": {},
     "output_type": "execute_result"
    }
   ],
   "source": [
    "m2"
   ]
  },
  {
   "cell_type": "code",
   "execution_count": 41,
   "id": "b8b427bf",
   "metadata": {},
   "outputs": [
    {
     "name": "stdout",
     "output_type": "stream",
     "text": [
      "C#C[C@@H](O)/C=C/CCCCCCCCCC[C@H](C)CCCC\n"
     ]
    }
   ],
   "source": [
    "print(m2)"
   ]
  },
  {
   "cell_type": "code",
   "execution_count": 42,
   "id": "abdf200d",
   "metadata": {},
   "outputs": [],
   "source": [
    "mol_2=Chem.MolFromMol2File('/home/ailon/Desktop/python_practice/rdkit_test/decoy_01.mol2')"
   ]
  },
  {
   "cell_type": "code",
   "execution_count": 47,
   "id": "9a7ce5ab",
   "metadata": {},
   "outputs": [],
   "source": [
    "mol_2_1=Chem.MolToSmiles(mol_2)"
   ]
  },
  {
   "cell_type": "code",
   "execution_count": 48,
   "id": "956a5407",
   "metadata": {},
   "outputs": [
    {
     "data": {
      "text/plain": [
       "'C#C[C@@H](O)/C=C/CCCCCCCCCCCCCC(C)C'"
      ]
     },
     "execution_count": 48,
     "metadata": {},
     "output_type": "execute_result"
    }
   ],
   "source": [
    "mol_2_1"
   ]
  },
  {
   "cell_type": "code",
   "execution_count": 53,
   "id": "6a4ca7ba",
   "metadata": {},
   "outputs": [
    {
     "data": {
      "text/plain": [
       "'COC(=O)O'"
      ]
     },
     "execution_count": 53,
     "metadata": {},
     "output_type": "execute_result"
    }
   ],
   "source": [
    "smiles_1.loc[0][1]"
   ]
  },
  {
   "cell_type": "code",
   "execution_count": 73,
   "id": "ac6a3f50",
   "metadata": {},
   "outputs": [
    {
     "ename": "AttributeError",
     "evalue": "module 'rdkit.Chem' has no attribute 'MolWt'",
     "output_type": "error",
     "traceback": [
      "\u001b[0;31m---------------------------------------------------------------------------\u001b[0m",
      "\u001b[0;31mAttributeError\u001b[0m                            Traceback (most recent call last)",
      "\u001b[0;32m<ipython-input-73-54bad70b1f1b>\u001b[0m in \u001b[0;36m<module>\u001b[0;34m\u001b[0m\n\u001b[0;32m----> 1\u001b[0;31m \u001b[0mChem\u001b[0m\u001b[0;34m.\u001b[0m\u001b[0mMolWt\u001b[0m\u001b[0;34m(\u001b[0m\u001b[0mChem\u001b[0m\u001b[0;34m.\u001b[0m\u001b[0mMolFromSmiles\u001b[0m\u001b[0;34m(\u001b[0m\u001b[0msmiles_1\u001b[0m\u001b[0;34m.\u001b[0m\u001b[0mloc\u001b[0m\u001b[0;34m[\u001b[0m\u001b[0;36m0\u001b[0m\u001b[0;34m]\u001b[0m\u001b[0;34m[\u001b[0m\u001b[0;36m1\u001b[0m\u001b[0;34m]\u001b[0m\u001b[0;34m)\u001b[0m\u001b[0;34m)\u001b[0m\u001b[0;34m\u001b[0m\u001b[0;34m\u001b[0m\u001b[0m\n\u001b[0m",
      "\u001b[0;31mAttributeError\u001b[0m: module 'rdkit.Chem' has no attribute 'MolWt'"
     ]
    }
   ],
   "source": [
    "Chem.MolWt(Chem.MolFromSmiles(smiles_1.loc[0][1]))"
   ]
  },
  {
   "cell_type": "code",
   "execution_count": 77,
   "id": "c2af0aa1",
   "metadata": {},
   "outputs": [
    {
     "data": {
      "text/plain": [
       "76.051"
      ]
     },
     "execution_count": 77,
     "metadata": {},
     "output_type": "execute_result"
    }
   ],
   "source": [
    "Descriptors.MolWt(Chem.MolFromSmiles(smiles_1.loc[0][1]))"
   ]
  },
  {
   "cell_type": "code",
   "execution_count": 75,
   "id": "7568a66e",
   "metadata": {
    "scrolled": true
   },
   "outputs": [
    {
     "ename": "ArgumentError",
     "evalue": "Python argument types in\n    rdkit.Chem.rdMolDescriptors._CalcMolWt(str)\ndid not match C++ signature:\n    _CalcMolWt(RDKit::ROMol mol, bool onlyHeavy=False)",
     "output_type": "error",
     "traceback": [
      "\u001b[0;31m---------------------------------------------------------------------------\u001b[0m",
      "\u001b[0;31mArgumentError\u001b[0m                             Traceback (most recent call last)",
      "\u001b[0;32m<ipython-input-75-44e0e22971db>\u001b[0m in \u001b[0;36m<module>\u001b[0;34m\u001b[0m\n\u001b[0;32m----> 1\u001b[0;31m \u001b[0mDescriptors\u001b[0m\u001b[0;34m.\u001b[0m\u001b[0mMolWt\u001b[0m\u001b[0;34m(\u001b[0m\u001b[0;34m'CC'\u001b[0m\u001b[0;34m)\u001b[0m\u001b[0;34m\u001b[0m\u001b[0;34m\u001b[0m\u001b[0m\n\u001b[0m",
      "\u001b[0;32m~/anaconda3/lib/python3.8/site-packages/rdkit/Chem/Descriptors.py\u001b[0m in \u001b[0;36m<lambda>\u001b[0;34m(*x, **y)\u001b[0m\n\u001b[1;32m     65\u001b[0m \u001b[0;34m\u001b[0m\u001b[0m\n\u001b[1;32m     66\u001b[0m \u001b[0;34m\u001b[0m\u001b[0m\n\u001b[0;32m---> 67\u001b[0;31m \u001b[0mMolWt\u001b[0m \u001b[0;34m=\u001b[0m \u001b[0;32mlambda\u001b[0m \u001b[0;34m*\u001b[0m\u001b[0mx\u001b[0m\u001b[0;34m,\u001b[0m \u001b[0;34m**\u001b[0m\u001b[0my\u001b[0m\u001b[0;34m:\u001b[0m \u001b[0m_rdMolDescriptors\u001b[0m\u001b[0;34m.\u001b[0m\u001b[0m_CalcMolWt\u001b[0m\u001b[0;34m(\u001b[0m\u001b[0;34m*\u001b[0m\u001b[0mx\u001b[0m\u001b[0;34m,\u001b[0m \u001b[0;34m**\u001b[0m\u001b[0my\u001b[0m\u001b[0;34m)\u001b[0m\u001b[0;34m\u001b[0m\u001b[0;34m\u001b[0m\u001b[0m\n\u001b[0m\u001b[1;32m     68\u001b[0m \u001b[0mMolWt\u001b[0m\u001b[0;34m.\u001b[0m\u001b[0mversion\u001b[0m \u001b[0;34m=\u001b[0m \u001b[0m_rdMolDescriptors\u001b[0m\u001b[0;34m.\u001b[0m\u001b[0m_CalcMolWt_version\u001b[0m\u001b[0;34m\u001b[0m\u001b[0;34m\u001b[0m\u001b[0m\n\u001b[1;32m     69\u001b[0m MolWt.__doc__ = \"\"\"The average molecular weight of the molecule\n",
      "\u001b[0;31mArgumentError\u001b[0m: Python argument types in\n    rdkit.Chem.rdMolDescriptors._CalcMolWt(str)\ndid not match C++ signature:\n    _CalcMolWt(RDKit::ROMol mol, bool onlyHeavy=False)"
     ]
    }
   ],
   "source": [
    "Descriptors.MolWt('CC')"
   ]
  },
  {
   "cell_type": "code",
   "execution_count": 76,
   "id": "66c85585",
   "metadata": {},
   "outputs": [
    {
     "data": {
      "text/plain": [
       "30.07"
      ]
     },
     "execution_count": 76,
     "metadata": {},
     "output_type": "execute_result"
    }
   ],
   "source": [
    "m = Chem.MolFromSmiles('CC')\n",
    "\n",
    "Descriptors.MolWt(m)"
   ]
  },
  {
   "cell_type": "code",
   "execution_count": 2,
   "id": "17dda033",
   "metadata": {},
   "outputs": [],
   "source": [
    "import rdkit\n",
    "from rdkit import Chem"
   ]
  },
  {
   "cell_type": "code",
   "execution_count": 3,
   "id": "7c591142",
   "metadata": {},
   "outputs": [],
   "source": [
    "from rdkit.Chem import Descriptors"
   ]
  },
  {
   "cell_type": "code",
   "execution_count": 6,
   "id": "72dee6e9",
   "metadata": {},
   "outputs": [
    {
     "data": {
      "text/plain": [
       "0.21482707984630062"
      ]
     },
     "execution_count": 6,
     "metadata": {},
     "output_type": "execute_result"
    }
   ],
   "source": [
    "rdkit.Chem.QED.qed(mol_1)"
   ]
  },
  {
   "cell_type": "code",
   "execution_count": null,
   "id": "bcaccbec",
   "metadata": {},
   "outputs": [],
   "source": []
  },
  {
   "cell_type": "code",
   "execution_count": null,
   "id": "0dbdf4fc",
   "metadata": {},
   "outputs": [],
   "source": []
  }
 ],
 "metadata": {
  "kernelspec": {
   "display_name": "Python 3",
   "language": "python",
   "name": "python3"
  },
  "language_info": {
   "codemirror_mode": {
    "name": "ipython",
    "version": 3
   },
   "file_extension": ".py",
   "mimetype": "text/x-python",
   "name": "python",
   "nbconvert_exporter": "python",
   "pygments_lexer": "ipython3",
   "version": "3.8.8"
  }
 },
 "nbformat": 4,
 "nbformat_minor": 5
}
