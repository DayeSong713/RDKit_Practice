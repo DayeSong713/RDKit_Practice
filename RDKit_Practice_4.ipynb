{
 "cells": [
  {
   "cell_type": "code",
   "execution_count": 1,
   "id": "aed43538",
   "metadata": {},
   "outputs": [
    {
     "name": "stderr",
     "output_type": "stream",
     "text": [
      "RDKit WARNING: [10:53:57] Enabling RDKit 2019.09.3 jupyter extensions\n"
     ]
    }
   ],
   "source": [
    "import rdkit\n",
    "from rdkit import Chem\n",
    "from rdkit.Chem import Descriptors\n",
    "import pandas as pd"
   ]
  },
  {
   "cell_type": "code",
   "execution_count": 2,
   "id": "1e310057",
   "metadata": {},
   "outputs": [],
   "source": [
    "smiles_1=pd.read_csv('/home/ailon/Desktop/python_practice/RDKit_test.csv')"
   ]
  },
  {
   "cell_type": "code",
   "execution_count": 3,
   "id": "d019abe3",
   "metadata": {},
   "outputs": [
    {
     "data": {
      "text/html": [
       "<div>\n",
       "<style scoped>\n",
       "    .dataframe tbody tr th:only-of-type {\n",
       "        vertical-align: middle;\n",
       "    }\n",
       "\n",
       "    .dataframe tbody tr th {\n",
       "        vertical-align: top;\n",
       "    }\n",
       "\n",
       "    .dataframe thead th {\n",
       "        text-align: right;\n",
       "    }\n",
       "</style>\n",
       "<table border=\"1\" class=\"dataframe\">\n",
       "  <thead>\n",
       "    <tr style=\"text-align: right;\">\n",
       "      <th></th>\n",
       "      <th>CID</th>\n",
       "      <th>canSmiles</th>\n",
       "      <th>isoSmiles</th>\n",
       "      <th>Source</th>\n",
       "    </tr>\n",
       "  </thead>\n",
       "  <tbody>\n",
       "    <tr>\n",
       "      <th>0</th>\n",
       "      <td>0</td>\n",
       "      <td>COC(=O)O</td>\n",
       "      <td>COC(=O)O</td>\n",
       "      <td>PDB</td>\n",
       "    </tr>\n",
       "    <tr>\n",
       "      <th>1</th>\n",
       "      <td>1</td>\n",
       "      <td>COc1cc(C(F)(F)C(=O)N2CCCCC2C(=O)OC(CCCc2ccccc2...</td>\n",
       "      <td>COc1cc(C(F)(F)C(=O)N2CCCC[C@H]2C(=O)O[C@@H](CC...</td>\n",
       "      <td>PDB</td>\n",
       "    </tr>\n",
       "    <tr>\n",
       "      <th>2</th>\n",
       "      <td>2</td>\n",
       "      <td>CCC(C)C(NC(=O)C(CC(=O)NO)Cc1ccccc1)C(=O)NC(CC(...</td>\n",
       "      <td>CC[C@H](C)[C@H](NC(=O)[C@@H](CC(=O)NO)Cc1ccccc...</td>\n",
       "      <td>PDB</td>\n",
       "    </tr>\n",
       "    <tr>\n",
       "      <th>3</th>\n",
       "      <td>3</td>\n",
       "      <td>CC(C)Cn1c(=O)n(C)c(=O)c2c(-c3ccncc3)n(Cc3cccc4...</td>\n",
       "      <td>CC(C)Cn1c(=O)n(C)c(=O)c2c(-c3ccncc3)n(Cc3cccc4...</td>\n",
       "      <td>PDB</td>\n",
       "    </tr>\n",
       "    <tr>\n",
       "      <th>4</th>\n",
       "      <td>4</td>\n",
       "      <td>NC(C(=O)O)c1ccccc1</td>\n",
       "      <td>N[C@H](C(=O)O)c1ccccc1</td>\n",
       "      <td>PDB</td>\n",
       "    </tr>\n",
       "    <tr>\n",
       "      <th>5</th>\n",
       "      <td>5</td>\n",
       "      <td>NC(Cc1ccccc1)C(O)C(=O)O</td>\n",
       "      <td>N[C@@H](Cc1ccccc1)[C@H](O)C(=O)O</td>\n",
       "      <td>PDB</td>\n",
       "    </tr>\n",
       "    <tr>\n",
       "      <th>6</th>\n",
       "      <td>6</td>\n",
       "      <td>Cc1cccc(C)c1OCC(=O)NC(Cc1ccccc1)C(O)C(=O)N1CSC...</td>\n",
       "      <td>Cc1cccc(C)c1OCC(=O)N[C@@H](Cc1ccccc1)[C@H](O)C...</td>\n",
       "      <td>PDB</td>\n",
       "    </tr>\n",
       "    <tr>\n",
       "      <th>7</th>\n",
       "      <td>7</td>\n",
       "      <td>NCC1(c2ccccc2)CCCC1</td>\n",
       "      <td>NCC1(c2ccccc2)CCCC1</td>\n",
       "      <td>PDB</td>\n",
       "    </tr>\n",
       "    <tr>\n",
       "      <th>8</th>\n",
       "      <td>8</td>\n",
       "      <td>NC(=O)C1Cc2ccccc2CN1C(=O)CC(N)Cc1ccccc1F</td>\n",
       "      <td>NC(=O)[C@@H]1Cc2ccccc2CN1C(=O)C[C@H](N)Cc1ccccc1F</td>\n",
       "      <td>PDB</td>\n",
       "    </tr>\n",
       "    <tr>\n",
       "      <th>9</th>\n",
       "      <td>9</td>\n",
       "      <td>CN(C)c1cccc(CNCC(O)C(Cc2ccccc2)NC(=O)C2(Cc3ccc...</td>\n",
       "      <td>CN(C)c1cccc(CNC[C@@H](O)[C@H](Cc2ccccc2)NC(=O)...</td>\n",
       "      <td>PDB</td>\n",
       "    </tr>\n",
       "  </tbody>\n",
       "</table>\n",
       "</div>"
      ],
      "text/plain": [
       "   CID                                          canSmiles  \\\n",
       "0    0                                           COC(=O)O   \n",
       "1    1  COc1cc(C(F)(F)C(=O)N2CCCCC2C(=O)OC(CCCc2ccccc2...   \n",
       "2    2  CCC(C)C(NC(=O)C(CC(=O)NO)Cc1ccccc1)C(=O)NC(CC(...   \n",
       "3    3  CC(C)Cn1c(=O)n(C)c(=O)c2c(-c3ccncc3)n(Cc3cccc4...   \n",
       "4    4                                 NC(C(=O)O)c1ccccc1   \n",
       "5    5                            NC(Cc1ccccc1)C(O)C(=O)O   \n",
       "6    6  Cc1cccc(C)c1OCC(=O)NC(Cc1ccccc1)C(O)C(=O)N1CSC...   \n",
       "7    7                                NCC1(c2ccccc2)CCCC1   \n",
       "8    8           NC(=O)C1Cc2ccccc2CN1C(=O)CC(N)Cc1ccccc1F   \n",
       "9    9  CN(C)c1cccc(CNCC(O)C(Cc2ccccc2)NC(=O)C2(Cc3ccc...   \n",
       "\n",
       "                                           isoSmiles Source  \n",
       "0                                           COC(=O)O    PDB  \n",
       "1  COc1cc(C(F)(F)C(=O)N2CCCC[C@H]2C(=O)O[C@@H](CC...    PDB  \n",
       "2  CC[C@H](C)[C@H](NC(=O)[C@@H](CC(=O)NO)Cc1ccccc...    PDB  \n",
       "3  CC(C)Cn1c(=O)n(C)c(=O)c2c(-c3ccncc3)n(Cc3cccc4...    PDB  \n",
       "4                             N[C@H](C(=O)O)c1ccccc1    PDB  \n",
       "5                   N[C@@H](Cc1ccccc1)[C@H](O)C(=O)O    PDB  \n",
       "6  Cc1cccc(C)c1OCC(=O)N[C@@H](Cc1ccccc1)[C@H](O)C...    PDB  \n",
       "7                                NCC1(c2ccccc2)CCCC1    PDB  \n",
       "8  NC(=O)[C@@H]1Cc2ccccc2CN1C(=O)C[C@H](N)Cc1ccccc1F    PDB  \n",
       "9  CN(C)c1cccc(CNC[C@@H](O)[C@H](Cc2ccccc2)NC(=O)...    PDB  "
      ]
     },
     "execution_count": 3,
     "metadata": {},
     "output_type": "execute_result"
    }
   ],
   "source": [
    "smiles_1"
   ]
  },
  {
   "cell_type": "code",
   "execution_count": 4,
   "id": "54d2ace4",
   "metadata": {},
   "outputs": [
    {
     "data": {
      "image/png": "[encoded data removed]",
      "text/plain": [
       "<rdkit.Chem.rdchem.Mol at 0x7f89c633b3a0>"
      ]
     },
     "execution_count": 4,
     "metadata": {},
     "output_type": "execute_result"
    }
   ],
   "source": [
    "Chem.MolFromSmiles(smiles_1.loc[0][1])"
   ]
  },
  {
   "cell_type": "code",
   "execution_count": null,
   "id": "4fae8a2f",
   "metadata": {},
   "outputs": [],
   "source": [
    "df2 = pd.DataFrame(index=range(0,10), columns=['Canonical SMILES','Molecular weight', 'QED','LogP'])"
   ]
  },
  {
   "cell_type": "code",
   "execution_count": 6,
   "id": "490ab1a9",
   "metadata": {},
   "outputs": [
    {
     "name": "stdout",
     "output_type": "stream",
     "text": [
      "<rdkit.Chem.rdchem.Mol object at 0x7f89c633b220>\n",
      "<rdkit.Chem.rdchem.Mol object at 0x7f89c633b640>\n",
      "<rdkit.Chem.rdchem.Mol object at 0x7f89c633b220>\n",
      "<rdkit.Chem.rdchem.Mol object at 0x7f89c633b640>\n",
      "<rdkit.Chem.rdchem.Mol object at 0x7f89c633b220>\n",
      "<rdkit.Chem.rdchem.Mol object at 0x7f89c633b640>\n",
      "<rdkit.Chem.rdchem.Mol object at 0x7f89c633b220>\n",
      "<rdkit.Chem.rdchem.Mol object at 0x7f89c633b640>\n",
      "<rdkit.Chem.rdchem.Mol object at 0x7f89c633b220>\n",
      "<rdkit.Chem.rdchem.Mol object at 0x7f89c633b640>\n",
      "<rdkit.Chem.rdchem.Mol object at 0x7f89c633b220>\n",
      "<rdkit.Chem.rdchem.Mol object at 0x7f89c633b640>\n",
      "<rdkit.Chem.rdchem.Mol object at 0x7f89c633b220>\n",
      "<rdkit.Chem.rdchem.Mol object at 0x7f89c633b640>\n",
      "<rdkit.Chem.rdchem.Mol object at 0x7f89c633b220>\n",
      "<rdkit.Chem.rdchem.Mol object at 0x7f89c633b640>\n",
      "<rdkit.Chem.rdchem.Mol object at 0x7f89c633b220>\n",
      "<rdkit.Chem.rdchem.Mol object at 0x7f89c633b640>\n",
      "<rdkit.Chem.rdchem.Mol object at 0x7f89c633b220>\n",
      "<rdkit.Chem.rdchem.Mol object at 0x7f89c633b640>\n"
     ]
    }
   ],
   "source": [
    "for i in range(10):\n",
    "    for j in range(1,3):\n",
    "        Chem.MolToSmiles(Chem.MolFromSmiles(smiles_1.loc[i][j]))"
   ]
  },
  {
   "cell_type": "code",
   "execution_count": 10,
   "id": "f9f63179",
   "metadata": {},
   "outputs": [
    {
     "data": {
      "text/plain": [
       "'COC(=O)O'"
      ]
     },
     "execution_count": 10,
     "metadata": {},
     "output_type": "execute_result"
    }
   ],
   "source": [
    "Chem.MolToSmiles(Chem.MolFromSmiles(smiles_1.loc[0][1]))"
   ]
  },
  {
   "cell_type": "code",
   "execution_count": 18,
   "id": "e3d14a2b",
   "metadata": {},
   "outputs": [
    {
     "data": {
      "text/plain": [
       "'COC(=O)O'"
      ]
     },
     "execution_count": 18,
     "metadata": {},
     "output_type": "execute_result"
    }
   ],
   "source": [
    "Chem.MolToSmiles(Chem.MolFromSmiles(smiles_1.loc[0][2]))"
   ]
  },
  {
   "cell_type": "code",
   "execution_count": 19,
   "id": "43dc2e03",
   "metadata": {},
   "outputs": [
    {
     "data": {
      "text/plain": [
       "'COc1cc(C(F)(F)C(=O)N2CCCCC2C(=O)OC(CCCc2ccccc2)CCCc2cccnc2)cc(OC)c1OC'"
      ]
     },
     "execution_count": 19,
     "metadata": {},
     "output_type": "execute_result"
    }
   ],
   "source": [
    "Chem.MolToSmiles(Chem.MolFromSmiles(smiles_1.loc[1][1]))"
   ]
  },
  {
   "cell_type": "code",
   "execution_count": 21,
   "id": "96134eb4",
   "metadata": {},
   "outputs": [
    {
     "data": {
      "text/plain": [
       "'COc1cc(C(F)(F)C(=O)N2CCCC[C@H]2C(=O)O[C@@H](CCCc2ccccc2)CCCc2cccnc2)cc(OC)c1OC'"
      ]
     },
     "execution_count": 21,
     "metadata": {},
     "output_type": "execute_result"
    }
   ],
   "source": [
    "Chem.MolToSmiles(Chem.MolFromSmiles(smiles_1.loc[1][2]))"
   ]
  },
  {
   "cell_type": "code",
   "execution_count": null,
   "id": "95f70b16",
   "metadata": {},
   "outputs": [],
   "source": [
    "Descriptors.MolWt(Chem.MolFromSmiles(smiles_1.loc[0][1]))"
   ]
  },
  {
   "cell_type": "code",
   "execution_count": null,
   "id": "3a861ffd",
   "metadata": {},
   "outputs": [],
   "source": [
    "rdkit.Chem.QED.qed(Chem.MolFromSmiles(smiles_1.loc[0][1]))"
   ]
  },
  {
   "cell_type": "code",
   "execution_count": null,
   "id": "f65ba63f",
   "metadata": {},
   "outputs": [],
   "source": [
    "Descriptors.MolLogP(Chem.MolFromSmiles(smiles_1.loc[0][1]))"
   ]
  },
  {
   "cell_type": "code",
   "execution_count": 12,
   "id": "302131e6",
   "metadata": {},
   "outputs": [
    {
     "name": "stdout",
     "output_type": "stream",
     "text": [
      "76.051\n",
      "76.051\n",
      "624.7250000000003\n",
      "624.7250000000003\n",
      "449.5480000000002\n",
      "449.5480000000002\n",
      "439.5190000000002\n",
      "439.5190000000002\n",
      "151.165\n",
      "151.165\n",
      "195.21799999999996\n",
      "195.21799999999996\n",
      "631.7950000000002\n",
      "631.7950000000002\n",
      "175.2749999999999\n",
      "175.2749999999999\n",
      "355.41300000000007\n",
      "355.41300000000007\n",
      "605.7830000000002\n",
      "605.7830000000002\n"
     ]
    }
   ],
   "source": [
    "for i in range(10):\n",
    "    for j in range(1,3):\n",
    "        print(Descriptors.MolWt(Chem.MolFromSmiles(smiles_1.loc[i][j])))"
   ]
  },
  {
   "cell_type": "code",
   "execution_count": 14,
   "id": "03418732",
   "metadata": {},
   "outputs": [
    {
     "name": "stdout",
     "output_type": "stream",
     "text": [
      "76.051\n",
      "624.7250000000003\n",
      "449.5480000000002\n",
      "439.5190000000002\n",
      "151.165\n",
      "195.21799999999996\n",
      "631.7950000000002\n",
      "175.2749999999999\n",
      "355.41300000000007\n",
      "605.7830000000002\n"
     ]
    }
   ],
   "source": [
    "for i in range(10):\n",
    "        print(Descriptors.MolWt(Chem.MolFromSmiles(smiles_1.loc[i][1])))"
   ]
  },
  {
   "cell_type": "code",
   "execution_count": 15,
   "id": "091c5b27",
   "metadata": {},
   "outputs": [
    {
     "name": "stdout",
     "output_type": "stream",
     "text": [
      "0.42219487491764734\n",
      "0.17762493413341482\n",
      "0.2296700802427429\n",
      "0.4173217385495793\n",
      "0.655800007320009\n",
      "0.6311832763088718\n",
      "0.2706646391790964\n",
      "0.7337889337364486\n",
      "0.8521803152204891\n",
      "0.17339115360147667\n"
     ]
    }
   ],
   "source": [
    "for i in range(10):\n",
    "        print(rdkit.Chem.QED.qed(Chem.MolFromSmiles(smiles_1.loc[i][1])))"
   ]
  },
  {
   "cell_type": "code",
   "execution_count": 17,
   "id": "e9f15e03",
   "metadata": {},
   "outputs": [
    {
     "name": "stdout",
     "output_type": "stream",
     "text": [
      "0.31079999999999997\n",
      "0.31079999999999997\n",
      "6.537900000000008\n",
      "6.537900000000008\n",
      "1.8872000000000002\n",
      "1.8872000000000002\n",
      "3.816200000000003\n",
      "3.816200000000003\n",
      "0.7709999999999999\n",
      "0.7709999999999999\n",
      "0.0019000000000002348\n",
      "0.0019000000000002348\n",
      "3.2252400000000017\n",
      "3.2252400000000017\n",
      "2.4571000000000005\n",
      "2.4571000000000005\n",
      "1.5244\n",
      "1.5244\n",
      "4.137500000000002\n",
      "4.137500000000002\n"
     ]
    }
   ],
   "source": [
    "for i in range(10):\n",
    "    for j in range(1,3):\n",
    "        print(Descriptors.MolLogP(Chem.MolFromSmiles(smiles_1.loc[i][j])))"
   ]
  },
  {
   "cell_type": "code",
   "execution_count": null,
   "id": "5bc25433",
   "metadata": {},
   "outputs": [],
   "source": []
  }
 ],
 "metadata": {
  "kernelspec": {
   "display_name": "Python 3",
   "language": "python",
   "name": "python3"
  },
  "language_info": {
   "codemirror_mode": {
    "name": "ipython",
    "version": 3
   },
   "file_extension": ".py",
   "mimetype": "text/x-python",
   "name": "python",
   "nbconvert_exporter": "python",
   "pygments_lexer": "ipython3",
   "version": "3.8.8"
  }
 },
 "nbformat": 4,
 "nbformat_minor": 5
}
