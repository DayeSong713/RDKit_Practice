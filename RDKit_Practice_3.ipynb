{
 "cells": [
  {
   "cell_type": "code",
   "execution_count": 1,
   "id": "c6ec922a",
   "metadata": {},
   "outputs": [
    {
     "name": "stderr",
     "output_type": "stream",
     "text": [
      "RDKit WARNING: [10:06:46] Enabling RDKit 2019.09.3 jupyter extensions\n"
     ]
    }
   ],
   "source": [
    "import rdkit\n",
    "from rdkit import Chem\n",
    "from rdkit.Chem import Descriptors\n",
    "import pandas as pd"
   ]
  },
  {
   "cell_type": "code",
   "execution_count": 2,
   "id": "6cdb2502",
   "metadata": {},
   "outputs": [],
   "source": [
    "mol2_0=Chem.MolFromMol2File('/home/ailon/Desktop/python_practice/rdkit_test/decoy_00.mol2')"
   ]
  },
  {
   "cell_type": "code",
   "execution_count": 3,
   "id": "1b440828",
   "metadata": {},
   "outputs": [],
   "source": [
    "mol2_1=Chem.MolFromMol2File('/home/ailon/Desktop/python_practice/rdkit_test/decoy_01.mol2')"
   ]
  },
  {
   "cell_type": "code",
   "execution_count": 4,
   "id": "96d7f9a9",
   "metadata": {},
   "outputs": [],
   "source": [
    "mol2_2=Chem.MolFromMol2File('/home/ailon/Desktop/python_practice/rdkit_test/decoy_02.mol2')"
   ]
  },
  {
   "cell_type": "code",
   "execution_count": 5,
   "id": "f71e08a8",
   "metadata": {},
   "outputs": [],
   "source": [
    "mol2_3=Chem.MolFromMol2File('/home/ailon/Desktop/python_practice/rdkit_test/decoy_03.mol2')"
   ]
  },
  {
   "cell_type": "code",
   "execution_count": 6,
   "id": "b2d052cf",
   "metadata": {},
   "outputs": [],
   "source": [
    "mol2_4=Chem.MolFromMol2File('/home/ailon/Desktop/python_practice/rdkit_test/decoy_04.mol2')"
   ]
  },
  {
   "cell_type": "code",
   "execution_count": 7,
   "id": "c1ca796a",
   "metadata": {},
   "outputs": [],
   "source": [
    "mol2_5=Chem.MolFromMol2File('/home/ailon/Desktop/python_practice/rdkit_test/decoy_05.mol2')"
   ]
  },
  {
   "cell_type": "code",
   "execution_count": 8,
   "id": "659ba605",
   "metadata": {},
   "outputs": [],
   "source": [
    "mol2_6=Chem.MolFromMol2File('/home/ailon/Desktop/python_practice/rdkit_test/decoy_06.mol2')"
   ]
  },
  {
   "cell_type": "code",
   "execution_count": 9,
   "id": "04c2c42f",
   "metadata": {},
   "outputs": [],
   "source": [
    "mol2_7=Chem.MolFromMol2File('/home/ailon/Desktop/python_practice/rdkit_test/decoy_07.mol2')"
   ]
  },
  {
   "cell_type": "code",
   "execution_count": 10,
   "id": "b862e700",
   "metadata": {},
   "outputs": [],
   "source": [
    "mol2_8=Chem.MolFromMol2File('/home/ailon/Desktop/python_practice/rdkit_test/decoy_08.mol2')"
   ]
  },
  {
   "cell_type": "code",
   "execution_count": 11,
   "id": "ad490e0c",
   "metadata": {},
   "outputs": [],
   "source": [
    "mol2_9=Chem.MolFromMol2File('/home/ailon/Desktop/python_practice/rdkit_test/decoy_09.mol2')"
   ]
  },
  {
   "cell_type": "code",
   "execution_count": 12,
   "id": "88c29030",
   "metadata": {},
   "outputs": [
    {
     "data": {
      "image/png": "[encoded data removed]",
      "text/plain": [
       "<rdkit.Chem.rdchem.Mol at 0x7f0d7f022220>"
      ]
     },
     "execution_count": 12,
     "metadata": {},
     "output_type": "execute_result"
    }
   ],
   "source": [
    "mol2_2"
   ]
  },
  {
   "cell_type": "code",
   "execution_count": 17,
   "id": "879aeec3",
   "metadata": {},
   "outputs": [
    {
     "data": {
      "image/png": "[encoded data removed]",
      "text/plain": [
       "<rdkit.Chem.rdchem.Mol at 0x7f0d7f0223a0>"
      ]
     },
     "execution_count": 17,
     "metadata": {},
     "output_type": "execute_result"
    }
   ],
   "source": [
    "mol2_3"
   ]
  },
  {
   "cell_type": "code",
   "execution_count": 13,
   "id": "94279dc4",
   "metadata": {},
   "outputs": [
    {
     "data": {
      "text/plain": [
       "'C#C[C@@H](O)/C=C/CCCCCCCCCC[C@H](C)CCCC'"
      ]
     },
     "execution_count": 13,
     "metadata": {},
     "output_type": "execute_result"
    }
   ],
   "source": [
    "mol2_0_smiles=Chem.MolToSmiles(mol2_0)\n",
    "mol2_0_smiles"
   ]
  },
  {
   "cell_type": "code",
   "execution_count": 14,
   "id": "5ac6b64c",
   "metadata": {},
   "outputs": [
    {
     "data": {
      "text/plain": [
       "'C#C[C@@H](O)/C=C/CCCCCCCCCCCCCC(C)C'"
      ]
     },
     "execution_count": 14,
     "metadata": {},
     "output_type": "execute_result"
    }
   ],
   "source": [
    "mol2_1_smiles=Chem.MolToSmiles(mol2_1)\n",
    "mol2_1_smiles"
   ]
  },
  {
   "cell_type": "code",
   "execution_count": 16,
   "id": "96249586",
   "metadata": {},
   "outputs": [
    {
     "data": {
      "text/plain": [
       "'CCCCCC[C@H](O)CCCCCCCCCCC(=O)[O-]'"
      ]
     },
     "execution_count": 16,
     "metadata": {},
     "output_type": "execute_result"
    }
   ],
   "source": [
    "mol2_2_smiles=Chem.MolToSmiles(mol2_2)\n",
    "mol2_2_smiles"
   ]
  },
  {
   "cell_type": "code",
   "execution_count": 18,
   "id": "2cc60a66",
   "metadata": {},
   "outputs": [
    {
     "data": {
      "text/plain": [
       "'CCCCCC[C@@H](O)CCCCCCCCCCC(=O)[O-]'"
      ]
     },
     "execution_count": 18,
     "metadata": {},
     "output_type": "execute_result"
    }
   ],
   "source": [
    "mol2_3_smiles=Chem.MolToSmiles(mol2_3)\n",
    "mol2_3_smiles"
   ]
  },
  {
   "cell_type": "code",
   "execution_count": null,
   "id": "3c874bf3",
   "metadata": {},
   "outputs": [],
   "source": [
    "mol2_4_smiles=Chem.MolToSmiles(mol2_4)\n",
    "mol2_4_smiles"
   ]
  },
  {
   "cell_type": "code",
   "execution_count": 19,
   "id": "4e1e9f55",
   "metadata": {},
   "outputs": [
    {
     "data": {
      "text/plain": [
       "'C#C[C@@H](O)/C=C/CCCCCCCCCC[C@@H](C)CCCC'"
      ]
     },
     "execution_count": 19,
     "metadata": {},
     "output_type": "execute_result"
    }
   ],
   "source": [
    "mol2_5_smiles=Chem.MolToSmiles(mol2_5)\n",
    "mol2_5_smiles"
   ]
  },
  {
   "cell_type": "code",
   "execution_count": 20,
   "id": "c718c3a7",
   "metadata": {},
   "outputs": [
    {
     "data": {
      "text/plain": [
       "'C#C[C@H](O)/C=C/CCCCCCCCCCCCCC(C)C'"
      ]
     },
     "execution_count": 20,
     "metadata": {},
     "output_type": "execute_result"
    }
   ],
   "source": [
    "mol2_6_smiles=Chem.MolToSmiles(mol2_6)\n",
    "mol2_6_smiles"
   ]
  },
  {
   "cell_type": "code",
   "execution_count": null,
   "id": "07546555",
   "metadata": {},
   "outputs": [],
   "source": [
    "mol2_7_smiles=Chem.MolToSmiles(mol2_7)\n",
    "mol2_2_smiles"
   ]
  },
  {
   "cell_type": "code",
   "execution_count": null,
   "id": "2a4e8933",
   "metadata": {},
   "outputs": [],
   "source": [
    "mol2_2_smiles=Chem.MolToSmiles(mol2_2)\n",
    "mol2_2_smiles"
   ]
  },
  {
   "cell_type": "code",
   "execution_count": null,
   "id": "eccd8d11",
   "metadata": {},
   "outputs": [],
   "source": [
    "mol2_2_smiles=Chem.MolToSmiles(mol2_2)\n",
    "mol2_2_smiles"
   ]
  },
  {
   "cell_type": "code",
   "execution_count": null,
   "id": "951b7862",
   "metadata": {},
   "outputs": [],
   "source": []
  },
  {
   "cell_type": "code",
   "execution_count": null,
   "id": "c053acc7",
   "metadata": {},
   "outputs": [],
   "source": []
  },
  {
   "cell_type": "code",
   "execution_count": null,
   "id": "d201278c",
   "metadata": {},
   "outputs": [],
   "source": []
  }
 ],
 "metadata": {
  "kernelspec": {
   "display_name": "Python 3",
   "language": "python",
   "name": "python3"
  },
  "language_info": {
   "codemirror_mode": {
    "name": "ipython",
    "version": 3
   },
   "file_extension": ".py",
   "mimetype": "text/x-python",
   "name": "python",
   "nbconvert_exporter": "python",
   "pygments_lexer": "ipython3",
   "version": "3.8.8"
  }
 },
 "nbformat": 4,
 "nbformat_minor": 5
}
