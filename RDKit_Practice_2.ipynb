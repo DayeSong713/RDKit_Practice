{
 "cells": [
  {
   "cell_type": "code",
   "execution_count": 2,
   "id": "4de43c4a",
   "metadata": {},
   "outputs": [
    {
     "name": "stderr",
     "output_type": "stream",
     "text": [
      "RDKit WARNING: [08:47:00] Enabling RDKit 2019.09.3 jupyter extensions\n"
     ]
    }
   ],
   "source": [
    "import rdkit\n",
    "from rdkit import Chem\n",
    "from rdkit.Chem import Descriptors\n",
    "import pandas as pd"
   ]
  },
  {
   "cell_type": "code",
   "execution_count": 3,
   "id": "816cefb1",
   "metadata": {},
   "outputs": [],
   "source": [
    "smiles_1=pd.read_csv('/home/ailon/Desktop/python_practice/RDKit_test.csv')"
   ]
  },
  {
   "cell_type": "code",
   "execution_count": 4,
   "id": "2a3684ba",
   "metadata": {},
   "outputs": [
    {
     "data": {
      "text/html": [
       "<div>\n",
       "<style scoped>\n",
       "    .dataframe tbody tr th:only-of-type {\n",
       "        vertical-align: middle;\n",
       "    }\n",
       "\n",
       "    .dataframe tbody tr th {\n",
       "        vertical-align: top;\n",
       "    }\n",
       "\n",
       "    .dataframe thead th {\n",
       "        text-align: right;\n",
       "    }\n",
       "</style>\n",
       "<table border=\"1\" class=\"dataframe\">\n",
       "  <thead>\n",
       "    <tr style=\"text-align: right;\">\n",
       "      <th></th>\n",
       "      <th>CID</th>\n",
       "      <th>canSmiles</th>\n",
       "      <th>isoSmiles</th>\n",
       "      <th>Source</th>\n",
       "    </tr>\n",
       "  </thead>\n",
       "  <tbody>\n",
       "    <tr>\n",
       "      <th>0</th>\n",
       "      <td>0</td>\n",
       "      <td>COC(=O)O</td>\n",
       "      <td>COC(=O)O</td>\n",
       "      <td>PDB</td>\n",
       "    </tr>\n",
       "    <tr>\n",
       "      <th>1</th>\n",
       "      <td>1</td>\n",
       "      <td>COc1cc(C(F)(F)C(=O)N2CCCCC2C(=O)OC(CCCc2ccccc2...</td>\n",
       "      <td>COc1cc(C(F)(F)C(=O)N2CCCC[C@H]2C(=O)O[C@@H](CC...</td>\n",
       "      <td>PDB</td>\n",
       "    </tr>\n",
       "    <tr>\n",
       "      <th>2</th>\n",
       "      <td>2</td>\n",
       "      <td>CCC(C)C(NC(=O)C(CC(=O)NO)Cc1ccccc1)C(=O)NC(CC(...</td>\n",
       "      <td>CC[C@H](C)[C@H](NC(=O)[C@@H](CC(=O)NO)Cc1ccccc...</td>\n",
       "      <td>PDB</td>\n",
       "    </tr>\n",
       "    <tr>\n",
       "      <th>3</th>\n",
       "      <td>3</td>\n",
       "      <td>CC(C)Cn1c(=O)n(C)c(=O)c2c(-c3ccncc3)n(Cc3cccc4...</td>\n",
       "      <td>CC(C)Cn1c(=O)n(C)c(=O)c2c(-c3ccncc3)n(Cc3cccc4...</td>\n",
       "      <td>PDB</td>\n",
       "    </tr>\n",
       "    <tr>\n",
       "      <th>4</th>\n",
       "      <td>4</td>\n",
       "      <td>NC(C(=O)O)c1ccccc1</td>\n",
       "      <td>N[C@H](C(=O)O)c1ccccc1</td>\n",
       "      <td>PDB</td>\n",
       "    </tr>\n",
       "    <tr>\n",
       "      <th>5</th>\n",
       "      <td>5</td>\n",
       "      <td>NC(Cc1ccccc1)C(O)C(=O)O</td>\n",
       "      <td>N[C@@H](Cc1ccccc1)[C@H](O)C(=O)O</td>\n",
       "      <td>PDB</td>\n",
       "    </tr>\n",
       "    <tr>\n",
       "      <th>6</th>\n",
       "      <td>6</td>\n",
       "      <td>Cc1cccc(C)c1OCC(=O)NC(Cc1ccccc1)C(O)C(=O)N1CSC...</td>\n",
       "      <td>Cc1cccc(C)c1OCC(=O)N[C@@H](Cc1ccccc1)[C@H](O)C...</td>\n",
       "      <td>PDB</td>\n",
       "    </tr>\n",
       "    <tr>\n",
       "      <th>7</th>\n",
       "      <td>7</td>\n",
       "      <td>NCC1(c2ccccc2)CCCC1</td>\n",
       "      <td>NCC1(c2ccccc2)CCCC1</td>\n",
       "      <td>PDB</td>\n",
       "    </tr>\n",
       "    <tr>\n",
       "      <th>8</th>\n",
       "      <td>8</td>\n",
       "      <td>NC(=O)C1Cc2ccccc2CN1C(=O)CC(N)Cc1ccccc1F</td>\n",
       "      <td>NC(=O)[C@@H]1Cc2ccccc2CN1C(=O)C[C@H](N)Cc1ccccc1F</td>\n",
       "      <td>PDB</td>\n",
       "    </tr>\n",
       "    <tr>\n",
       "      <th>9</th>\n",
       "      <td>9</td>\n",
       "      <td>CN(C)c1cccc(CNCC(O)C(Cc2ccccc2)NC(=O)C2(Cc3ccc...</td>\n",
       "      <td>CN(C)c1cccc(CNC[C@@H](O)[C@H](Cc2ccccc2)NC(=O)...</td>\n",
       "      <td>PDB</td>\n",
       "    </tr>\n",
       "  </tbody>\n",
       "</table>\n",
       "</div>"
      ],
      "text/plain": [
       "   CID                                          canSmiles  \\\n",
       "0    0                                           COC(=O)O   \n",
       "1    1  COc1cc(C(F)(F)C(=O)N2CCCCC2C(=O)OC(CCCc2ccccc2...   \n",
       "2    2  CCC(C)C(NC(=O)C(CC(=O)NO)Cc1ccccc1)C(=O)NC(CC(...   \n",
       "3    3  CC(C)Cn1c(=O)n(C)c(=O)c2c(-c3ccncc3)n(Cc3cccc4...   \n",
       "4    4                                 NC(C(=O)O)c1ccccc1   \n",
       "5    5                            NC(Cc1ccccc1)C(O)C(=O)O   \n",
       "6    6  Cc1cccc(C)c1OCC(=O)NC(Cc1ccccc1)C(O)C(=O)N1CSC...   \n",
       "7    7                                NCC1(c2ccccc2)CCCC1   \n",
       "8    8           NC(=O)C1Cc2ccccc2CN1C(=O)CC(N)Cc1ccccc1F   \n",
       "9    9  CN(C)c1cccc(CNCC(O)C(Cc2ccccc2)NC(=O)C2(Cc3ccc...   \n",
       "\n",
       "                                           isoSmiles Source  \n",
       "0                                           COC(=O)O    PDB  \n",
       "1  COc1cc(C(F)(F)C(=O)N2CCCC[C@H]2C(=O)O[C@@H](CC...    PDB  \n",
       "2  CC[C@H](C)[C@H](NC(=O)[C@@H](CC(=O)NO)Cc1ccccc...    PDB  \n",
       "3  CC(C)Cn1c(=O)n(C)c(=O)c2c(-c3ccncc3)n(Cc3cccc4...    PDB  \n",
       "4                             N[C@H](C(=O)O)c1ccccc1    PDB  \n",
       "5                   N[C@@H](Cc1ccccc1)[C@H](O)C(=O)O    PDB  \n",
       "6  Cc1cccc(C)c1OCC(=O)N[C@@H](Cc1ccccc1)[C@H](O)C...    PDB  \n",
       "7                                NCC1(c2ccccc2)CCCC1    PDB  \n",
       "8  NC(=O)[C@@H]1Cc2ccccc2CN1C(=O)C[C@H](N)Cc1ccccc1F    PDB  \n",
       "9  CN(C)c1cccc(CNC[C@@H](O)[C@H](Cc2ccccc2)NC(=O)...    PDB  "
      ]
     },
     "execution_count": 4,
     "metadata": {},
     "output_type": "execute_result"
    }
   ],
   "source": [
    "smiles_1"
   ]
  },
  {
   "cell_type": "code",
   "execution_count": 5,
   "id": "8eb3b51d",
   "metadata": {},
   "outputs": [
    {
     "name": "stdout",
     "output_type": "stream",
     "text": [
      "<rdkit.Chem.rdchem.Mol object at 0x7fccf0c6c9a0>\n"
     ]
    },
    {
     "data": {
      "image/png": "[encoded data removed]",
      "text/plain": [
       "<rdkit.Chem.rdchem.Mol at 0x7fccf0c6c9a0>"
      ]
     },
     "execution_count": 5,
     "metadata": {},
     "output_type": "execute_result"
    }
   ],
   "source": [
    "m = Chem.MolFromSmiles('Cc1ccccc1')\n",
    "print(m)\n",
    "m"
   ]
  },
  {
   "cell_type": "code",
   "execution_count": 6,
   "id": "303b68a8",
   "metadata": {},
   "outputs": [],
   "source": [
    "mol2_0=Chem.MolFromMol2File('/home/ailon/Desktop/python_practice/rdkit_test/decoy_00.mol2')"
   ]
  },
  {
   "cell_type": "code",
   "execution_count": 7,
   "id": "658bc194",
   "metadata": {},
   "outputs": [
    {
     "data": {
      "image/png": "[encoded data removed]",
      "text/plain": [
       "<rdkit.Chem.rdchem.Mol at 0x7fccf0c6cb80>"
      ]
     },
     "execution_count": 7,
     "metadata": {},
     "output_type": "execute_result"
    }
   ],
   "source": [
    "mol2_0"
   ]
  },
  {
   "cell_type": "code",
   "execution_count": 8,
   "id": "c35e9f84",
   "metadata": {},
   "outputs": [],
   "source": [
    "mol2_1=Chem.MolFromMol2File('/home/ailon/Desktop/python_practice/rdkit_test/decoy_01.mol2')"
   ]
  },
  {
   "cell_type": "code",
   "execution_count": 9,
   "id": "124d1b74",
   "metadata": {},
   "outputs": [
    {
     "data": {
      "image/png": "[encoded data removed]",
      "text/plain": [
       "<rdkit.Chem.rdchem.Mol at 0x7fccf0c6ce20>"
      ]
     },
     "execution_count": 9,
     "metadata": {},
     "output_type": "execute_result"
    }
   ],
   "source": [
    "mol2_1"
   ]
  },
  {
   "cell_type": "code",
   "execution_count": 10,
   "id": "cba7ce7c",
   "metadata": {},
   "outputs": [],
   "source": [
    "mol2_0_smiles=Chem.MolToSmiles(mol2_0)"
   ]
  },
  {
   "cell_type": "code",
   "execution_count": 11,
   "id": "4bc2007a",
   "metadata": {},
   "outputs": [
    {
     "data": {
      "text/plain": [
       "'C#C[C@@H](O)/C=C/CCCCCCCCCC[C@H](C)CCCC'"
      ]
     },
     "execution_count": 11,
     "metadata": {},
     "output_type": "execute_result"
    }
   ],
   "source": [
    "mol2_0_smiles"
   ]
  },
  {
   "cell_type": "code",
   "execution_count": 12,
   "id": "56417aa5",
   "metadata": {},
   "outputs": [
    {
     "data": {
      "image/png": "[encoded data removed]",
      "text/plain": [
       "<rdkit.Chem.rdchem.Mol at 0x7fccf0c836a0>"
      ]
     },
     "execution_count": 12,
     "metadata": {},
     "output_type": "execute_result"
    }
   ],
   "source": [
    "Chem.MolFromSmiles(smiles_1.loc[0][1])"
   ]
  },
  {
   "cell_type": "code",
   "execution_count": 13,
   "id": "1675a68c",
   "metadata": {},
   "outputs": [
    {
     "data": {
      "text/plain": [
       "76.051"
      ]
     },
     "execution_count": 13,
     "metadata": {},
     "output_type": "execute_result"
    }
   ],
   "source": [
    "Descriptors.MolWt(Chem.MolFromSmiles(smiles_1.loc[0][1]))"
   ]
  },
  {
   "cell_type": "code",
   "execution_count": 14,
   "id": "fde7b159",
   "metadata": {},
   "outputs": [
    {
     "data": {
      "text/plain": [
       "0.42219487491764734"
      ]
     },
     "execution_count": 14,
     "metadata": {},
     "output_type": "execute_result"
    }
   ],
   "source": [
    "rdkit.Chem.QED.qed(Chem.MolFromSmiles(smiles_1.loc[0][1]))"
   ]
  },
  {
   "cell_type": "code",
   "execution_count": 15,
   "id": "499e5e83",
   "metadata": {},
   "outputs": [
    {
     "data": {
      "text/plain": [
       "0.42219487491764734"
      ]
     },
     "execution_count": 15,
     "metadata": {},
     "output_type": "execute_result"
    }
   ],
   "source": [
    "rdkit.Chem.QED.default(Chem.MolFromSmiles(smiles_1.loc[0][1]))"
   ]
  },
  {
   "cell_type": "code",
   "execution_count": null,
   "id": "01f95f44",
   "metadata": {},
   "outputs": [],
   "source": []
  },
  {
   "cell_type": "code",
   "execution_count": null,
   "id": "552f475c",
   "metadata": {},
   "outputs": [],
   "source": []
  }
 ],
 "metadata": {
  "kernelspec": {
   "display_name": "Python 3",
   "language": "python",
   "name": "python3"
  },
  "language_info": {
   "codemirror_mode": {
    "name": "ipython",
    "version": 3
   },
   "file_extension": ".py",
   "mimetype": "text/x-python",
   "name": "python",
   "nbconvert_exporter": "python",
   "pygments_lexer": "ipython3",
   "version": "3.8.8"
  }
 },
 "nbformat": 4,
 "nbformat_minor": 5
}
